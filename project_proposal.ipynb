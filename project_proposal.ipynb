{
 "cells": [
  {
   "cell_type": "code",
   "execution_count": 1,
   "id": "6fc445b9-bdca-49b3-9724-0038f19b5de0",
   "metadata": {},
   "outputs": [
    {
     "name": "stderr",
     "output_type": "stream",
     "text": [
      "── \u001b[1mAttaching packages\u001b[22m ─────────────────────────────────────── tidyverse 1.3.1 ──\n",
      "\n",
      "\u001b[32m✔\u001b[39m \u001b[34mggplot2\u001b[39m 3.3.6     \u001b[32m✔\u001b[39m \u001b[34mpurrr  \u001b[39m 0.3.4\n",
      "\u001b[32m✔\u001b[39m \u001b[34mtibble \u001b[39m 3.1.7     \u001b[32m✔\u001b[39m \u001b[34mdplyr  \u001b[39m 1.0.9\n",
      "\u001b[32m✔\u001b[39m \u001b[34mtidyr  \u001b[39m 1.2.0     \u001b[32m✔\u001b[39m \u001b[34mstringr\u001b[39m 1.4.0\n",
      "\u001b[32m✔\u001b[39m \u001b[34mreadr  \u001b[39m 2.1.2     \u001b[32m✔\u001b[39m \u001b[34mforcats\u001b[39m 0.5.1\n",
      "\n",
      "── \u001b[1mConflicts\u001b[22m ────────────────────────────────────────── tidyverse_conflicts() ──\n",
      "\u001b[31m✖\u001b[39m \u001b[34mdplyr\u001b[39m::\u001b[32mfilter()\u001b[39m masks \u001b[34mstats\u001b[39m::filter()\n",
      "\u001b[31m✖\u001b[39m \u001b[34mdplyr\u001b[39m::\u001b[32mlag()\u001b[39m    masks \u001b[34mstats\u001b[39m::lag()\n",
      "\n",
      "── \u001b[1mAttaching packages\u001b[22m ────────────────────────────────────── tidymodels 1.0.0 ──\n",
      "\n",
      "\u001b[32m✔\u001b[39m \u001b[34mbroom       \u001b[39m 1.0.0     \u001b[32m✔\u001b[39m \u001b[34mrsample     \u001b[39m 1.0.0\n",
      "\u001b[32m✔\u001b[39m \u001b[34mdials       \u001b[39m 1.0.0     \u001b[32m✔\u001b[39m \u001b[34mtune        \u001b[39m 1.0.0\n",
      "\u001b[32m✔\u001b[39m \u001b[34minfer       \u001b[39m 1.0.2     \u001b[32m✔\u001b[39m \u001b[34mworkflows   \u001b[39m 1.0.0\n",
      "\u001b[32m✔\u001b[39m \u001b[34mmodeldata   \u001b[39m 1.0.0     \u001b[32m✔\u001b[39m \u001b[34mworkflowsets\u001b[39m 1.0.0\n",
      "\u001b[32m✔\u001b[39m \u001b[34mparsnip     \u001b[39m 1.0.0     \u001b[32m✔\u001b[39m \u001b[34myardstick   \u001b[39m 1.0.0\n",
      "\u001b[32m✔\u001b[39m \u001b[34mrecipes     \u001b[39m 1.0.1     \n",
      "\n",
      "── \u001b[1mConflicts\u001b[22m ───────────────────────────────────────── tidymodels_conflicts() ──\n",
      "\u001b[31m✖\u001b[39m \u001b[34mscales\u001b[39m::\u001b[32mdiscard()\u001b[39m masks \u001b[34mpurrr\u001b[39m::discard()\n",
      "\u001b[31m✖\u001b[39m \u001b[34mdplyr\u001b[39m::\u001b[32mfilter()\u001b[39m   masks \u001b[34mstats\u001b[39m::filter()\n",
      "\u001b[31m✖\u001b[39m \u001b[34mrecipes\u001b[39m::\u001b[32mfixed()\u001b[39m  masks \u001b[34mstringr\u001b[39m::fixed()\n",
      "\u001b[31m✖\u001b[39m \u001b[34mdplyr\u001b[39m::\u001b[32mlag()\u001b[39m      masks \u001b[34mstats\u001b[39m::lag()\n",
      "\u001b[31m✖\u001b[39m \u001b[34myardstick\u001b[39m::\u001b[32mspec()\u001b[39m masks \u001b[34mreadr\u001b[39m::spec()\n",
      "\u001b[31m✖\u001b[39m \u001b[34mrecipes\u001b[39m::\u001b[32mstep()\u001b[39m   masks \u001b[34mstats\u001b[39m::step()\n",
      "\u001b[34m•\u001b[39m Search for functions across packages at \u001b[32mhttps://www.tidymodels.org/find/\u001b[39m\n",
      "\n",
      "\n",
      "Attaching package: ‘dbplyr’\n",
      "\n",
      "\n",
      "The following objects are masked from ‘package:dplyr’:\n",
      "\n",
      "    ident, sql\n",
      "\n",
      "\n"
     ]
    }
   ],
   "source": [
    "library(tidyverse)\n",
    "library(tidymodels)\n",
    "library(readxl)\n",
    "library(repr)\n",
    "library(DBI)\n",
    "library(dbplyr)\n",
    "library(RPostgres)"
   ]
  },
  {
   "cell_type": "markdown",
   "id": "e949b307-ffb2-43cd-9808-2dceb0930915",
   "metadata": {},
   "source": [
    "# DSCI 100 Group Project Proposal\n",
    "## Group 8: Mikki, "
   ]
  },
  {
   "cell_type": "markdown",
   "id": "dc5e175b-e1d8-4caf-9e6e-fd53d3ea4f0a",
   "metadata": {},
   "source": [
    "### Introduction"
   ]
  },
  {
   "cell_type": "markdown",
   "id": "dfa05ba9-a88a-4e06-99a8-19f883c0b7ff",
   "metadata": {},
   "source": [
    "We will be using the multivaraible Heart Disease Data in the UCI Machine Learing Repository to predict (chest pain or presence of heart disease?)... At varying strengths, there are a multitude of factors that correlate with (predicting thingie), such as resting blood pressure, cholestrol, and resting heart rate. We will be mainly exploring the effect smoking has on (predicte class). We hope to explore whether the number of ciragreetes someone smokes over time can predict the (predicted class). "
   ]
  },
  {
   "cell_type": "markdown",
   "id": "e4ac596b-197f-4f20-970e-ded9cd2dcc03",
   "metadata": {},
   "source": [
    "### Preliminary Explanatory Data Analysis"
   ]
  },
  {
   "cell_type": "code",
   "execution_count": 46,
   "id": "458ecda7-be7f-4a2a-bb5e-2e084db7493f",
   "metadata": {},
   "outputs": [
    {
     "name": "stderr",
     "output_type": "stream",
     "text": [
      "\u001b[1m\u001b[22mNew names:\n",
      "\u001b[36m•\u001b[39m `1.0` -> `1.0...2`\n",
      "\u001b[36m•\u001b[39m `1.0` -> `1.0...3`\n",
      "\u001b[36m•\u001b[39m `1.0` -> `1.0...6`\n",
      "\u001b[36m•\u001b[39m `0.0` -> `0.0...9`\n",
      "\u001b[36m•\u001b[39m `0.0` -> `0.0...12`\n",
      "\u001b[1mRows: \u001b[22m\u001b[34m302\u001b[39m \u001b[1mColumns: \u001b[22m\u001b[34m14\u001b[39m\n",
      "\u001b[36m──\u001b[39m \u001b[1mColumn specification\u001b[22m \u001b[36m────────────────────────────────────────────────────────\u001b[39m\n",
      "\u001b[1mDelimiter:\u001b[22m \",\"\n",
      "\u001b[31mchr\u001b[39m  (2): 0.0...12, 6.0\n",
      "\u001b[32mdbl\u001b[39m (12): 63.0, 1.0...2, 1.0...3, 145.0, 233.0, 1.0...6, 2.0, 150.0, 0.0...9...\n",
      "\n",
      "\u001b[36mℹ\u001b[39m Use `spec()` to retrieve the full column specification for this data.\n",
      "\u001b[36mℹ\u001b[39m Specify the column types or set `show_col_types = FALSE` to quiet this message.\n"
     ]
    },
    {
     "data": {
      "text/html": [
       "<table class=\"dataframe\">\n",
       "<caption>A tibble: 6 × 14</caption>\n",
       "<thead>\n",
       "\t<tr><th scope=col>63.0</th><th scope=col>1.0...2</th><th scope=col>1.0...3</th><th scope=col>145.0</th><th scope=col>233.0</th><th scope=col>1.0...6</th><th scope=col>2.0</th><th scope=col>150.0</th><th scope=col>0.0...9</th><th scope=col>2.3</th><th scope=col>3.0</th><th scope=col>0.0...12</th><th scope=col>6.0</th><th scope=col>0</th></tr>\n",
       "\t<tr><th scope=col>&lt;dbl&gt;</th><th scope=col>&lt;dbl&gt;</th><th scope=col>&lt;dbl&gt;</th><th scope=col>&lt;dbl&gt;</th><th scope=col>&lt;dbl&gt;</th><th scope=col>&lt;dbl&gt;</th><th scope=col>&lt;dbl&gt;</th><th scope=col>&lt;dbl&gt;</th><th scope=col>&lt;dbl&gt;</th><th scope=col>&lt;dbl&gt;</th><th scope=col>&lt;dbl&gt;</th><th scope=col>&lt;chr&gt;</th><th scope=col>&lt;chr&gt;</th><th scope=col>&lt;dbl&gt;</th></tr>\n",
       "</thead>\n",
       "<tbody>\n",
       "\t<tr><td>67</td><td>1</td><td>4</td><td>160</td><td>286</td><td>0</td><td>2</td><td>108</td><td>1</td><td>1.5</td><td>2</td><td>3.0</td><td>3.0</td><td>2</td></tr>\n",
       "\t<tr><td>67</td><td>1</td><td>4</td><td>120</td><td>229</td><td>0</td><td>2</td><td>129</td><td>1</td><td>2.6</td><td>2</td><td>2.0</td><td>7.0</td><td>1</td></tr>\n",
       "\t<tr><td>37</td><td>1</td><td>3</td><td>130</td><td>250</td><td>0</td><td>0</td><td>187</td><td>0</td><td>3.5</td><td>3</td><td>0.0</td><td>3.0</td><td>0</td></tr>\n",
       "\t<tr><td>41</td><td>0</td><td>2</td><td>130</td><td>204</td><td>0</td><td>2</td><td>172</td><td>0</td><td>1.4</td><td>1</td><td>0.0</td><td>3.0</td><td>0</td></tr>\n",
       "\t<tr><td>56</td><td>1</td><td>2</td><td>120</td><td>236</td><td>0</td><td>0</td><td>178</td><td>0</td><td>0.8</td><td>1</td><td>0.0</td><td>3.0</td><td>0</td></tr>\n",
       "\t<tr><td>62</td><td>0</td><td>4</td><td>140</td><td>268</td><td>0</td><td>2</td><td>160</td><td>0</td><td>3.6</td><td>3</td><td>2.0</td><td>3.0</td><td>3</td></tr>\n",
       "</tbody>\n",
       "</table>\n"
      ],
      "text/latex": [
       "A tibble: 6 × 14\n",
       "\\begin{tabular}{llllllllllllll}\n",
       " 63.0 & 1.0...2 & 1.0...3 & 145.0 & 233.0 & 1.0...6 & 2.0 & 150.0 & 0.0...9 & 2.3 & 3.0 & 0.0...12 & 6.0 & 0\\\\\n",
       " <dbl> & <dbl> & <dbl> & <dbl> & <dbl> & <dbl> & <dbl> & <dbl> & <dbl> & <dbl> & <dbl> & <chr> & <chr> & <dbl>\\\\\n",
       "\\hline\n",
       "\t 67 & 1 & 4 & 160 & 286 & 0 & 2 & 108 & 1 & 1.5 & 2 & 3.0 & 3.0 & 2\\\\\n",
       "\t 67 & 1 & 4 & 120 & 229 & 0 & 2 & 129 & 1 & 2.6 & 2 & 2.0 & 7.0 & 1\\\\\n",
       "\t 37 & 1 & 3 & 130 & 250 & 0 & 0 & 187 & 0 & 3.5 & 3 & 0.0 & 3.0 & 0\\\\\n",
       "\t 41 & 0 & 2 & 130 & 204 & 0 & 2 & 172 & 0 & 1.4 & 1 & 0.0 & 3.0 & 0\\\\\n",
       "\t 56 & 1 & 2 & 120 & 236 & 0 & 0 & 178 & 0 & 0.8 & 1 & 0.0 & 3.0 & 0\\\\\n",
       "\t 62 & 0 & 4 & 140 & 268 & 0 & 2 & 160 & 0 & 3.6 & 3 & 2.0 & 3.0 & 3\\\\\n",
       "\\end{tabular}\n"
      ],
      "text/markdown": [
       "\n",
       "A tibble: 6 × 14\n",
       "\n",
       "| 63.0 &lt;dbl&gt; | 1.0...2 &lt;dbl&gt; | 1.0...3 &lt;dbl&gt; | 145.0 &lt;dbl&gt; | 233.0 &lt;dbl&gt; | 1.0...6 &lt;dbl&gt; | 2.0 &lt;dbl&gt; | 150.0 &lt;dbl&gt; | 0.0...9 &lt;dbl&gt; | 2.3 &lt;dbl&gt; | 3.0 &lt;dbl&gt; | 0.0...12 &lt;chr&gt; | 6.0 &lt;chr&gt; | 0 &lt;dbl&gt; |\n",
       "|---|---|---|---|---|---|---|---|---|---|---|---|---|---|\n",
       "| 67 | 1 | 4 | 160 | 286 | 0 | 2 | 108 | 1 | 1.5 | 2 | 3.0 | 3.0 | 2 |\n",
       "| 67 | 1 | 4 | 120 | 229 | 0 | 2 | 129 | 1 | 2.6 | 2 | 2.0 | 7.0 | 1 |\n",
       "| 37 | 1 | 3 | 130 | 250 | 0 | 0 | 187 | 0 | 3.5 | 3 | 0.0 | 3.0 | 0 |\n",
       "| 41 | 0 | 2 | 130 | 204 | 0 | 2 | 172 | 0 | 1.4 | 1 | 0.0 | 3.0 | 0 |\n",
       "| 56 | 1 | 2 | 120 | 236 | 0 | 0 | 178 | 0 | 0.8 | 1 | 0.0 | 3.0 | 0 |\n",
       "| 62 | 0 | 4 | 140 | 268 | 0 | 2 | 160 | 0 | 3.6 | 3 | 2.0 | 3.0 | 3 |\n",
       "\n"
      ],
      "text/plain": [
       "  63.0 1.0...2 1.0...3 145.0 233.0 1.0...6 2.0 150.0 0.0...9 2.3 3.0 0.0...12\n",
       "1 67   1       4       160   286   0       2   108   1       1.5 2   3.0     \n",
       "2 67   1       4       120   229   0       2   129   1       2.6 2   2.0     \n",
       "3 37   1       3       130   250   0       0   187   0       3.5 3   0.0     \n",
       "4 41   0       2       130   204   0       2   172   0       1.4 1   0.0     \n",
       "5 56   1       2       120   236   0       0   178   0       0.8 1   0.0     \n",
       "6 62   0       4       140   268   0       2   160   0       3.6 3   2.0     \n",
       "  6.0 0\n",
       "1 3.0 2\n",
       "2 7.0 1\n",
       "3 3.0 0\n",
       "4 3.0 0\n",
       "5 3.0 0\n",
       "6 3.0 3"
      ]
     },
     "metadata": {},
     "output_type": "display_data"
    }
   ],
   "source": [
    "url<-\"https://archive.ics.uci.edu/ml/machine-learning-databases/heart-disease/processed.cleveland.data\"\n",
    "heart_data_raw<-read_csv(url)\n",
    "head(heart_data_raw)"
   ]
  },
  {
   "cell_type": "markdown",
   "id": "a53d0ea9-22a7-4dbb-919c-ef40962999a4",
   "metadata": {},
   "source": [
    "### Methods"
   ]
  },
  {
   "cell_type": "markdown",
   "id": "cfe86aa7-5132-499a-8dd0-5eba35b564f7",
   "metadata": {},
   "source": []
  },
  {
   "cell_type": "markdown",
   "id": "ea6e8107-971d-4121-a17a-43e4461c7191",
   "metadata": {},
   "source": [
    "### Predictions and Significance"
   ]
  },
  {
   "cell_type": "markdown",
   "id": "1aad2043-59f5-4443-bb9d-6b3455338c7f",
   "metadata": {},
   "source": [
    "We have decided to use smoking as our predictive varaible because "
   ]
  }
 ],
 "metadata": {
  "kernelspec": {
   "display_name": "R",
   "language": "R",
   "name": "ir"
  },
  "language_info": {
   "codemirror_mode": "r",
   "file_extension": ".r",
   "mimetype": "text/x-r-source",
   "name": "R",
   "pygments_lexer": "r",
   "version": "4.1.3"
  }
 },
 "nbformat": 4,
 "nbformat_minor": 5
}
